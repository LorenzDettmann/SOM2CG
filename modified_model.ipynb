{
 "cells": [
  {
   "cell_type": "code",
   "execution_count": 1,
   "id": "f2dc64b3",
   "metadata": {},
   "outputs": [],
   "source": [
    "import os\n",
    "from rdkit import Chem\n",
    "import numpy as np\n",
    "np.warnings.filterwarnings('ignore', category=np.VisibleDeprecationWarning)\n",
    "import warnings\n",
    "warnings.filterwarnings(\"ignore\", category=Warning)\n",
    "import pandas as pd\n",
    "from rdkit.Chem.Draw import IPythonConsole\n",
    "IPythonConsole.molSize = 400,400\n",
    "IPythonConsole.drawOptions.addAtomIndices = True\n",
    "import MDAnalysis as mda\n",
    "from rdkit.Chem import Draw\n",
    "from natsort import natsorted, ns, humansorted\n",
    "from tqdm import tqdm\n",
    "from MDAnalysis import transformations"
   ]
  },
  {
   "cell_type": "code",
   "execution_count": 2,
   "id": "3d21537e-28f9-45d8-b28b-b570ad36e09a",
   "metadata": {},
   "outputs": [],
   "source": [
    "# fragment names\n",
    "names = np.array(['HS1', 'HS2', 'HS3', 'HS3p', 'HS4', 'HS4p', 'HS6', 'HS6p', 'HS7',\n",
    "       'HS8', 'HS9', 'HS9p', 'HS11', 'HS12', 'HS12p', 'HS13', 'HS13p',\n",
    "       'HS14', 'HS14p', 'HS16', 'HS16p', 'HS17', 'HS18', 'HS19', 'HS19p',\n",
    "       'HS20', 'HS20p', 'HS20fp', 'HS21', 'HS22', 'HS23', 'HS24', 'HS24p',\n",
    "       'HS25', 'HS25p', 'HS26', 'HS27', 'HS27p', 'HS28', 'HS29', 'HS30',\n",
    "       'HS30p', 'HS30fp', 'HS32', 'HS32p', 'HS34', 'HS34p', 'HS35',\n",
    "       'HS35p'], dtype=object)"
   ]
  },
  {
   "cell_type": "code",
   "execution_count": 3,
   "id": "acca27d7-f39e-498b-9874-fdb2a7c542b8",
   "metadata": {},
   "outputs": [],
   "source": [
    "# smiles for each fragment\n",
    "smiles = ['AC(=O)C(O)C(E)=O',\n",
    " 'ACX=CC(N)=C(O(E))C=CX',\n",
    " 'AC(CCO)C(E)C(C=CCC([O-])=O)CC(=O)[O-]',\n",
    " 'AC(CCO)C(E)C(C=CCC(O)=O)CC(=O)O',\n",
    " 'AC(CO)C(E)C(C=CC([O-])=O)CC([O-])=O',\n",
    " 'AC(CO)C(E)C(C=CC(O)=O)CC(O)=O',\n",
    " 'AC(CO)C(C([O-])=O)C(E)CO',\n",
    " 'AC(CO)C(C(O)=O)C(E)CO',\n",
    " 'ACX=CC=C(O(E))C(O)=CX(N)',\n",
    " 'ACX=CC=C(O(E))C(O)=CX',\n",
    " 'AC(CO)C(C(=O)[O-])C(O)(E)',\n",
    " 'AC(CO)C(C(=O)O)C(O)(E)',\n",
    " 'AC(=O)OC(E)=O',\n",
    " 'ACX=C(C(N)=C(CY=CXC(=C(C(O)OY)(C([O-])=O)))(O(E)))O',\n",
    " 'ACX=C(C(N)=C(CY=CXC(=C(C(O)OY)(C(O)=O)))(O(E)))O',\n",
    " 'AC(=O)C(E)C(O)C(O)C(C([O-])=O)O',\n",
    " 'AC(=O)C(E)C(O)C(O)C(C(O)=O)O',\n",
    " 'ACX=C(O)C(C([O-])=O)=C(O)C(C(E)=O)=CX(O)',\n",
    " 'ACX=C(O)C(C(O)=O)=C(O)C(C(E)=O)=CX(O)',\n",
    " 'ACX=C(O)C(S)=C(C([O-])=O)C(O(E))=CX(O)',\n",
    " 'ACX=C(O)C(S)=C(C(O)=O)C(O(E))=CX(O)',\n",
    " 'ACCCC(E)',\n",
    " 'ACC(NC(E))=O',\n",
    " 'ACC(C([O-])=O)C(E)',\n",
    " 'ACC(C(O)=O)C(E)',\n",
    " 'ACX=C(C([O-])=O)C=C(E)C(C([O-])=O)=CX',\n",
    " 'ACX=C(C([O-])=O)C=C(E)C(C(O)=O)=CX',\n",
    " 'ACX=C(C(O)=O)C=C(E)C(C(O)=O)=CX',\n",
    " 'ACX=C(O)C(E)=C(O)C(C(OC)=O)=CX',\n",
    " 'ACX=C(OC)C=C(E)C(OC)=CX(OC)',\n",
    " 'ACC(C(E))=O',\n",
    " 'ACC(NC(E)C([O-])=O)=O',\n",
    " 'ACC(NC(E)C(O)=O)=O',\n",
    " 'AC(C([O-])=O)C(O)CO(E)',\n",
    " 'AC(C(O)=O)C(O)CO(E)',\n",
    " 'ACC(O)C(E)',\n",
    " 'ACX=CC(C([O-])=O)=C(O)C(E)=CX(O)',\n",
    " 'ACX=CC(C(O)=O)=C(O)C(E)=CX(O)',\n",
    " 'ACX=CC(=O)C=C(E)CX(=O)',\n",
    " 'ACX=C(C=C(CY=CXC(=C(C=CY))O)(E))O',\n",
    " 'ACX=C(C([O-])=O)C=C(C([O-])=O)C(E)=CX(C([O-])=O)',\n",
    " 'ACX=C(C([O-])=O)C=C(C(O)=O)C(E)=CX(C([O-])=O)',\n",
    " 'ACX=C(C(O)=O)C=C(C(O)=O)C(E)=CX(C(O)=O)',\n",
    " 'ACX=CC(C([O-])=O)=CC(O)=CX(E)',\n",
    " 'ACX=CC(C(O)=O)=CC(O)=CX(E)',\n",
    " 'ACX=CYOCZ=C(O)C(NC(E))=CC(C([O-])=O)=CZCY=C(C([O-])=O)C=CX',\n",
    " 'ACX=CYOCZ=C(O)C(NC(E))=CC(C(O)=O)=CZCY=C(C(O)=O)C=CX',\n",
    " 'ACC(NC(C([O-])=O)C(CC(E))C)=O',\n",
    " 'ACC(NC(C(O)=O)C(CC(E))C)=O']"
   ]
  },
  {
   "cell_type": "code",
   "execution_count": 4,
   "id": "01e729b0-3cb1-4549-96c0-0ece20b1da4d",
   "metadata": {},
   "outputs": [],
   "source": [
    "fragments_mapping = {\n",
    "    'HS1': [[1, 2], [3, 4, 5], [6, 7]],\n",
    "    'HS2': [[1, 6, 7], [2, 3, 4, 5], [12, 13], [8, 9, 10, 11]],\n",
    "    'HS3': [[1, 2, 3, 4, 5], [9, 10, 11, 12], [13, 14, 15, 16], [6, 7, 8, 17]],\n",
    "    'HS3p': [[1, 2, 3, 4, 5], [9, 10, 11, 12, 13], [14, 15, 16, 17, 18], [6, 7, 8, 19]],\n",
    "    'HS4': [[1, 2, 3, 4, 15], [5, 6, 7, 11], [8, 9, 10], [12, 13, 14]],\n",
    "    'HS4p': [[1, 2, 3, 4, 17], [5, 6, 7, 12], [8, 9, 10, 11], [13, 14, 15, 16]],\n",
    "    'HS6': [[1, 2, 3, 4], [5, 6, 7, 8], [9, 10, 11, 12]],\n",
    "    'HS6p': [[1, 2, 3, 4], [5, 6, 7, 8, 9], [10, 11, 12, 13]],\n",
    "    'HS7': [[1, 6, 7, 8, 9], [2, 3, 4, 5], [13, 14], [10, 11, 12]],\n",
    "    'HS8': [[1, 6, 7], [2, 3, 4, 5], [11, 12], [8, 9, 10]],\n",
    "    'HS9': [[1, 2, 3, 4], [5, 6, 7, 8], [9, 10, 11]],\n",
    "    'HS9p': [[1, 2, 3, 4], [5, 6, 7, 8, 9], [10, 11, 12]],\n",
    "    'HS11': [[1, 2, 3, 4, 5]],\n",
    "    'HS12': [[1, 2, 3, 4], [10, 11, 12], [13, 14, 15], [16, 17, 18, 19], [21, 22], [9, 20], [5, 6, 7, 8]],\n",
    "    'HS12p': [[1, 2, 3, 4], [10, 11, 12], [13, 14, 15, 16], [17, 18, 19, 20], [22, 23], [9, 21], [5, 6, 7, 8]],\n",
    "    'HS13': [[1, 2, 15], [3, 4, 5], [6, 7, 8], [9, 10, 11], [12, 13, 14]],\n",
    "    'HS13p': [[1, 2, 16], [3, 4, 5], [6, 7, 8], [9, 10, 11], [12, 13, 14, 15]],\n",
    "    'HS14': [[1, 9, 10, 11], [2, 3, 4, 5], [6, 7, 8], [12, 13, 14, 15], [16, 17]],\n",
    "    'HS14p': [[1, 10, 11, 12], [2, 3, 4, 5], [6, 7, 8, 9], [13, 14, 15, 16], [17, 18]],\n",
    "    'HS16': [[1, 2, 3, 4], [5, 6, 7, 11], [12, 13, 14], [15, 16], [8, 9, 10]],\n",
    "    'HS16p': [[1, 2, 3, 4], [5, 6, 7, 11], [12, 13, 14, 15], [16, 17], [8, 9, 10]],\n",
    "    'HS17': [[1, 2, 3, 4]],\n",
    "    'HS18': [[1, 2, 3], [4, 5, 6]],\n",
    "    'HS19': [[1, 2, 6], [3, 4, 5]],\n",
    "    'HS19p': [[1, 2, 7], [3, 4, 5, 6]],\n",
    "    'HS20': [[1, 2], [6, 7, 8], [9, 10, 11], [3, 4, 5], [12, 13, 14]],\n",
    "    'HS20p': [[1, 2], [6, 7, 8], [9, 10, 11, 12], [3, 4, 5], [13, 14, 15]],\n",
    "    'HS20fp': [[1, 2], [7, 8, 9], [10, 11, 12, 13], [3, 4, 5, 6], [14, 15, 16]],\n",
    "    'HS21': [[1, 9, 10, 11], [2, 3, 4], [5, 6, 7, 8], [12, 13, 14, 15]],\n",
    "    'HS22': [[1, 5], [6, 7], [2, 8], [3, 4], [9, 10], [11, 12, 13]],\n",
    "    'HS23': [[1, 2, 3, 4]],\n",
    "    'HS24': [[1, 2, 3], [6, 7, 8], [4, 5, 9]],\n",
    "    'HS24p': [[1, 2, 3], [6, 7, 8, 9], [4, 5, 10]],\n",
    "    'HS25': [[1, 5, 6, 7], [2, 3, 4], [8, 9]],\n",
    "    'HS25p': [[1, 6, 7, 8], [2, 3, 4, 5], [9, 10]],\n",
    "    'HS26': [[1, 2, 3, 4, 5]],\n",
    "    'HS27': [[1, 8, 9, 10], [2, 3, 4], [5, 6, 7], [11, 12, 13, 14]],\n",
    "    'HS27p': [[1, 9, 10, 11], [2, 3, 4], [5, 6, 7, 8], [12, 13, 14, 15]],\n",
    "    'HS28': [[1, 6, 7], [2, 3], [4, 5, 10], [8, 9]],\n",
    "    'HS29': [[1, 2, 3, 4], [7, 8, 9, 10, 11], [12, 13, 14, 15], [16, 17, 18], [5, 6]],\n",
    "    'HS30': [[1, 2], [3, 4, 5], [13, 14, 15], [10, 11, 12], [7, 8, 9], [6, 16]],\n",
    "    'HS30p': [[1, 2], [3, 4, 5], [14, 15, 16], [11, 12, 13], [7, 8, 9, 10], [6, 17]],\n",
    "    'HS30fp': [[1, 2], [3, 4, 5, 6], [15, 16, 17, 18], [12, 13, 14], [8, 9, 10, 11], [7, 19]],\n",
    "    'HS32': [[1, 2, 3], [4, 8, 9], [5, 6, 7], [10, 11, 12, 13]],\n",
    "    'HS32p': [[1, 2, 3], [4, 9, 10], [5, 6, 7, 8], [11, 12, 13, 14]],\n",
    "    'HS34': [[1, 2, 3], [4, 5, 6], [15, 19, 20], [21, 22, 23, 24], [7, 8, 9], [16, 17, 18], [25, 26, 27], [10, 11], [13, 14], [12]],\n",
    "    'HS34p': [[1, 2, 3], [4, 5, 6], [16, 21, 22], [23, 24, 25, 26], [7, 8, 9, 10], [17, 18, 19, 20], [27, 28, 29], [11, 12], [14, 15], [13]],\n",
    "    'HS35': [[1, 2, 3], [4, 5, 6], [7, 8, 9], [10, 11, 12, 13]],\n",
    "    'HS35p': [[1, 2, 3], [4, 5, 6], [7, 8, 9, 10], [11, 12, 13, 14]]\n",
    "}"
   ]
  },
  {
   "cell_type": "code",
   "execution_count": 5,
   "id": "ad800b02-d7e1-4bb2-90f7-1d09a06e0f1f",
   "metadata": {},
   "outputs": [],
   "source": [
    "fragments_connections = {\n",
    "    'HS1': [[0, 1], [1, 2]],\n",
    "    'HS2': [[0, 1], [0, 2], [1, 2]],\n",
    "    'HS3': [[0, 3], [1, 3], [2, 3]],\n",
    "    'HS3p': [[0, 3], [1, 3], [2, 3]],\n",
    "    'HS4': [[0, 1], [1, 2], [1, 3]],\n",
    "    'HS4p': [[0, 1], [1, 2], [1, 3]],\n",
    "    'HS6': [[0, 1], [1, 2]],\n",
    "    'HS6p': [[0, 1], [1, 2]],\n",
    "    'HS7': [[0, 1], [0, 2], [1, 2]],\n",
    "    'HS8': [[0, 1], [0, 2], [1, 2]],\n",
    "    'HS9': [[0, 1], [1, 2]],\n",
    "    'HS9p': [[0, 1], [1, 2]],\n",
    "    'HS11': [],\n",
    "    'HS12': [[0, 1], [0, 3], [0, 4], [1, 2], [1, 3], [3, 4]],\n",
    "    'HS12p': [[0, 1], [0, 3], [0, 4], [1, 2], [1, 3], [3, 4]],\n",
    "    'HS13': [[0, 1], [1, 2], [2, 3], [3, 4]],\n",
    "    'HS13p': [[0, 1], [1, 2], [2, 3], [3, 4]],\n",
    "    'HS14': [[0, 1], [0, 3], [1, 2], [1, 3], [3, 4]],\n",
    "    'HS14p': [[0, 1], [0, 3], [1, 2], [1, 3], [3, 4]],\n",
    "    'HS16': [[0, 1], [0, 3], [1, 2], [1, 3]],\n",
    "    'HS16p': [[0, 1], [0, 3], [1, 2], [1, 3]],\n",
    "    'HS17': [],\n",
    "    'HS18': [[0, 1]],\n",
    "    'HS19': [[0, 1]],\n",
    "    'HS19p': [[0, 1]],\n",
    "    'HS20': [[0, 1], [0, 3], [0, 4], [1, 2], [1, 4]],\n",
    "    'HS20p': [[0, 1], [0, 3], [0, 4], [1, 2], [1, 4]],\n",
    "    'HS20fp': [[0, 1], [0, 3], [0, 4], [1, 2], [1, 4]],\n",
    "    'HS21': [[0, 1], [0, 3], [1, 2], [1, 3]],\n",
    "    'HS22': [[0, 1], [0, 2], [0, 5], [2, 3], [2, 4], [2, 5]],\n",
    "    'HS23': [],\n",
    "    'HS24': [[0, 2], [1, 2]],\n",
    "    'HS24p': [[0, 2], [1, 2]],\n",
    "    'HS25': [[0, 1], [0, 2]],\n",
    "    'HS25p': [[0, 1], [0, 2]],\n",
    "    'HS26': [],\n",
    "    'HS27': [[0, 1], [0, 3], [1, 2], [1, 3]],\n",
    "    'HS27p': [[0, 1], [0, 3], [1, 2], [1, 3]],\n",
    "    'HS28': [[0, 1], [0, 2], [1, 2]],\n",
    "    'HS29': [[0, 1], [0, 2], [0, 3], [1, 2], [2, 3]],\n",
    "    'HS30': [[0, 1], [0, 3], [0, 5], [2, 3], [3, 5], [4, 5]],\n",
    "    'HS30p': [[0, 1], [0, 3], [0, 5], [2, 3], [3, 5], [4, 5]],\n",
    "    'HS30fp': [[0, 1], [0, 3], [0, 5], [2, 3], [3, 5], [4, 5]],\n",
    "    'HS32': [[0, 1], [0, 3], [1, 2], [1, 3]],\n",
    "    'HS32p': [[0, 1], [0, 3], [1, 2], [1, 3]],\n",
    "    'HS34': [[0, 1], [0, 2], [0, 3], [1, 2], [1, 4], [2, 3], [2, 5], [3, 6]],\n",
    "    'HS34p': [[0, 1], [0, 2], [0, 3], [1, 2], [1, 4], [2, 3], [2, 5], [3, 6]],\n",
    "    'HS35': [[0, 1], [1, 2], [1, 3]],\n",
    "    'HS35p': [[0, 1], [1, 2], [1, 3]]\n",
    "}"
   ]
  },
  {
   "cell_type": "code",
   "execution_count": 6,
   "id": "c3f5b336-4abc-4798-81e7-193253ec2c71",
   "metadata": {},
   "outputs": [],
   "source": [
    "fragments_lengths = {\n",
    "    'HS1': 3,\n",
    "    'HS2': 4,\n",
    "    'HS3': 4,\n",
    "    'HS3p': 4,\n",
    "    'HS4': 4,\n",
    "    'HS4p': 4,\n",
    "    'HS6': 3,\n",
    "    'HS6p': 3,\n",
    "    'HS7': 4,\n",
    "    'HS8': 4,\n",
    "    'HS9': 3,\n",
    "    'HS9p': 3,\n",
    "    'HS11': 1,\n",
    "    'HS12': 7,\n",
    "    'HS12p': 7,\n",
    "    'HS13': 5,\n",
    "    'HS13p': 5,\n",
    "    'HS14': 5,\n",
    "    'HS14p': 5,\n",
    "    'HS16': 5,\n",
    "    'HS16p': 5,\n",
    "    'HS17': 1,\n",
    "    'HS18': 2,\n",
    "    'HS19': 2,\n",
    "    'HS19p': 2,\n",
    "    'HS20': 5,\n",
    "    'HS20p': 5,\n",
    "    'HS20fp': 5,\n",
    "    'HS21': 4,\n",
    "    'HS22': 6,\n",
    "    'HS23': 1,\n",
    "    'HS24': 3,\n",
    "    'HS24p': 3,\n",
    "    'HS25': 3,\n",
    "    'HS25p': 3,\n",
    "    'HS26': 1,\n",
    "    'HS27': 4,\n",
    "    'HS27p': 4,\n",
    "    'HS28': 4,\n",
    "    'HS29': 5,\n",
    "    'HS30': 6,\n",
    "    'HS30p': 6,\n",
    "    'HS30fp': 6,\n",
    "    'HS32': 4,\n",
    "    'HS32p': 4,\n",
    "    'HS34': 10,\n",
    "    'HS34p': 10,\n",
    "    'HS35': 4,\n",
    "    'HS35p': 4\n",
    "}"
   ]
  },
  {
   "cell_type": "code",
   "execution_count": 7,
   "id": "261fdb6c-3447-4de4-87f7-8b51689a3a7d",
   "metadata": {},
   "outputs": [],
   "source": [
    "fragments_bead_types = {\n",
    "    'HS1': ['TN5a', 'TP1', 'TN5a'],\n",
    "    'HS2': ['TC5', 'TC5', 'TN3ar', 'TN6d'],\n",
    "    'HS3': ['P1', 'Q5n', 'Q5n', 'C4h'],\n",
    "    'HS3p': ['P1', 'P2', 'P2', 'C4h'],\n",
    "    'HS4': ['P1', 'C4h', 'SQ5n', 'SQ5n'],\n",
    "    'HS4p': ['P1', 'C4h', 'SP2', 'SP2'],\n",
    "    'HS6': ['SP1', 'Q5n', 'SP1'],\n",
    "    'HS6p': ['SP1', 'P2', 'SP1'],\n",
    "    'HS7': ['SN6d', 'TC5', 'TN3ar', 'TN6'],\n",
    "    'HS8': ['TC5', 'TC5', 'TN3ar', 'TN6'],\n",
    "    'HS9': ['SP1', 'Q5n', 'TP1'],\n",
    "    'HS9p': ['SP1', 'P2', 'TP1'],\n",
    "    'HS11': ['P2a'],\n",
    "    'HS12': ['SN6', 'TC5', 'SQ5n', 'SP1r', 'TN3ar', 'TC5e', 'TN6d'],\n",
    "    'HS12p': ['SN6', 'TC5', 'SP2', 'SP1r', 'TN3ar', 'TC5e', 'TN6d'],\n",
    "    'HS13': ['SN5a', 'TP1', 'TP1', 'TP1', 'SQ5n'],\n",
    "    'HS13p': ['SN5a', 'TP1', 'TP1', 'TP1', 'SP2'],\n",
    "    'HS14': ['SN6', 'SN6', 'SQ5n', 'SN6', 'TN4a'],\n",
    "    'HS14p': ['SN6', 'SN6', 'SP2', 'SN6', 'TN4a'],\n",
    "    'HS16': ['SN6', 'SC6', 'SQ5n', 'TN3ar', 'TN6'],\n",
    "    'HS16p': ['SN6', 'SC6', 'SP2', 'TN3ar', 'TN6'],\n",
    "    'HS17': ['C1'],\n",
    "    'HS18': ['SN5a', 'TN4'],\n",
    "    'HS19': ['SC2', 'SQ5n'],\n",
    "    'HS19p': ['SC2', 'SP2'],\n",
    "    'HS20': ['TC5e', 'TC5', 'SQ5n', 'SQ5n', 'TC5'],\n",
    "    'HS20p': ['TC5e', 'TC5', 'SP2', 'SQ5n', 'TC5'],\n",
    "    'HS20fp': ['TC5e', 'TC5', 'SP2', 'SP2', 'TC5'],\n",
    "    'HS21': ['SN6', 'TC5', 'N4a', 'SN6'],\n",
    "    'HS22': ['TC5e', 'TN2a', 'TC5e', 'TN2a', 'TN2a', 'TC5'],\n",
    "    'HS23': ['N5a'],\n",
    "    'HS24': ['SN5a', 'SQ5n', 'TN4'],\n",
    "    'HS24p': ['SN5a', 'SP2', 'TN4'],\n",
    "    'HS25': ['SP1', 'SQ5n', 'TN3ar'],\n",
    "    'HS25p': ['SP1', 'SP2', 'TN3ar'],\n",
    "    'HS26': ['P1'],\n",
    "    'HS27': ['SN6', 'TC5', 'SQ5n', 'SN6'],\n",
    "    'HS27p': ['SN6', 'TC5', 'SP2', 'SN6'],\n",
    "    'HS28': ['TC5', 'TN6a', 'TC5', 'TN6a'],\n",
    "    'HS29': ['SN6', 'SN6', 'TC5', 'TC5', 'TC5e'],\n",
    "    'HS30': ['TC5e', 'SQ5n', 'SQ5n', 'TC5', 'SQ5n', 'TC5e'],\n",
    "    'HS30p': ['TC5e', 'SQ5n', 'SQ5n', 'TC5', 'SP2', 'TC5e'],\n",
    "    'HS30fp': ['TC5e', 'SP2', 'SP2', 'TC5', 'SP2', 'TC5e'],\n",
    "    'HS32': ['TC5', 'TC5', 'SQ5n', 'SN6'],\n",
    "    'HS32p': ['TC5', 'TC5', 'SP2', 'SN6'],\n",
    "    'HS34': ['TC5', 'TC5', 'TC5', 'SN6', 'SQ5n', 'SQ5n', 'TN4', 'TC5e', 'TC5e', 'TN2a'],\n",
    "    'HS34p': ['TC5', 'TC5', 'TC5', 'SN6', 'SP2', 'SP2', 'TN4', 'TC5e', 'TC5e', 'TN2a'],\n",
    "    'HS35': ['SN5a', 'TN4', 'SQ5n', 'C2'],\n",
    "    'HS35p': ['SN5a', 'TN4', 'SP2', 'C2']\n",
    "}"
   ]
  },
  {
   "cell_type": "code",
   "execution_count": 8,
   "id": "cb04af4c-d9c0-4981-88ed-6628e3b13878",
   "metadata": {},
   "outputs": [],
   "source": [
    "fragments_charges = {\n",
    "    'HS1': [0.0, 0.0, 0.0],\n",
    "    'HS2': [0.0, 0.0, 0.0, 0.0],\n",
    "    'HS3': [0.0, -1.0, -1.0, 0.0],\n",
    "    'HS3p': [0.0, 0.0, 0.0, 0.0],\n",
    "    'HS4': [0.0, 0.0, -1.0, -1.0],\n",
    "    'HS4p': [0.0, 0.0, 0.0, 0.0],\n",
    "    'HS6': [0.0, -1.0, 0.0],\n",
    "    'HS6p': [0.0, 0.0, 0.0],\n",
    "    'HS7': [0.0, 0.0, 0.0, 0.0],\n",
    "    'HS8': [0.0, 0.0, 0.0, 0.0],\n",
    "    'HS9': [0.0, -1.0, 0.0],\n",
    "    'HS9p': [0.0, 0.0, 0.0],\n",
    "    'HS11': [0.0],\n",
    "    'HS12': [0.0, 0.0, -1.0, 0.0, 0.0, 0.0, 0.0],\n",
    "    'HS12p': [0.0, 0.0, 0.0, 0.0, 0.0, 0.0, 0.0],\n",
    "    'HS13': [0.0, 0.0, 0.0, 0.0, -1.0],\n",
    "    'HS13p': [0.0, 0.0, 0.0, 0.0, 0.0],\n",
    "    'HS14': [0.0, 0.0, -1.0, 0.0, 0.0],\n",
    "    'HS14p': [0.0, 0.0, 0.0, 0.0, 0.0],\n",
    "    'HS16': [0.0, 0.0, -1.0, 0.0, 0.0],\n",
    "    'HS16p': [0.0, 0.0, 0.0, 0.0, 0.0],\n",
    "    'HS17': [0.0],\n",
    "    'HS18': [0.0, 0.0],\n",
    "    'HS19': [0.0, -1.0],\n",
    "    'HS19p': [0.0, 0.0],\n",
    "    'HS20': [0.0, 0.0, -1.0, -1.0, 0.0],\n",
    "    'HS20p': [0.0, 0.0, 0.0, -1.0, 0.0],\n",
    "    'HS20fp': [0.0, 0.0, 0.0, 0.0, 0.0],\n",
    "    'HS21': [0.0, 0.0, 0.0, 0.0],\n",
    "    'HS22': [0.0, 0.0, 0.0, 0.0, 0.0, 0.0],\n",
    "    'HS23': [0.0],\n",
    "    'HS24': [0.0, -1.0, 0.0],\n",
    "    'HS24p': [0.0, 0.0, 0.0],\n",
    "    'HS25': [0.0, -1.0, 0.0],\n",
    "    'HS25p': [0.0, 0.0, 0.0],\n",
    "    'HS26': [0.0],\n",
    "    'HS27': [0.0, 0.0, -1.0, 0.0],\n",
    "    'HS27p': [0.0, 0.0, 0.0, 0.0],\n",
    "    'HS28': [0.0, 0.0, 0.0, 0.0],\n",
    "    'HS29': [0.0, 0.0, 0.0, 0.0, 0.0],\n",
    "    'HS30': [0.0, -1.0, -1.0, 0.0, -1.0, 0.0],\n",
    "    'HS30p': [0.0, -1.0, -1.0, 0.0, 0.0, 0.0],\n",
    "    'HS30fp': [0.0, 0.0, 0.0, 0.0, 0.0, 0.0],\n",
    "    'HS32': [0.0, 0.0, -1.0, 0.0],\n",
    "    'HS32p': [0.0, 0.0, 0.0, 0.0],\n",
    "    'HS34': [0.0, 0.0, 0.0, 0.0, -1.0, -1.0, 0.0, 0.0, 0.0, 0.0],\n",
    "    'HS34p': [0.0, 0.0, 0.0, 0.0, 0.0, 0.0, 0.0, 0.0, 0.0, 0.0],\n",
    "    'HS35': [0.0, 0.0, -1.0, 0.0],\n",
    "    'HS35p': [0.0, 0.0, 0.0, 0.0]\n",
    "}"
   ]
  },
  {
   "cell_type": "code",
   "execution_count": 9,
   "id": "cf913ab3-a0b0-4372-a37f-ead8cb74d745",
   "metadata": {},
   "outputs": [],
   "source": [
    "fragments_vs = {\n",
    "    'HS1': [],\n",
    "    'HS2': [[3, 0, 1, 2, 1, -0.843, 1.043]],\n",
    "    'HS3': [],\n",
    "    'HS3p': [],\n",
    "    'HS4': [],\n",
    "    'HS4p': [],\n",
    "    'HS6': [],\n",
    "    'HS6p': [],\n",
    "    'HS7': [[3, 0, 1, 2, 1, -0.599, 1.068]],\n",
    "    'HS8': [[3, 0, 1, 2, 1, -0.756, 0.914]],\n",
    "    'HS9': [],\n",
    "    'HS9p': [],\n",
    "    'HS11': [],\n",
    "    'HS12': [[5, 1, 4, 1, 0.481], [6, 0, 4, 5, 1, 1.212, -0.983]],\n",
    "    'HS12p': [[5, 1, 4, 1, 0.48], [6, 0, 4, 5, 1, 1.212, -0.981]],\n",
    "    'HS13': [],\n",
    "    'HS13p': [],\n",
    "    'HS14': [],\n",
    "    'HS14p': [],\n",
    "    'HS16': [[4, 0, 1, 3, 1, -0.81, 1.013]],\n",
    "    'HS16p': [[4, 0, 1, 3, 1, -0.807, 1.0]],\n",
    "    'HS17': [],\n",
    "    'HS18': [],\n",
    "    'HS19': [],\n",
    "    'HS19p': [],\n",
    "    'HS20': [],\n",
    "    'HS20p': [],\n",
    "    'HS20fp': [],\n",
    "    'HS21': [],\n",
    "    'HS22': [],\n",
    "    'HS23': [],\n",
    "    'HS24': [],\n",
    "    'HS24p': [],\n",
    "    'HS25': [],\n",
    "    'HS25p': [],\n",
    "    'HS26': [],\n",
    "    'HS27': [],\n",
    "    'HS27p': [],\n",
    "    'HS28': [[3, 0, 1, 2, 1, -0.663, 0.837]],\n",
    "    'HS29': [[4, 3, 0, 0.12, 1, 0.308, 2, 0.242, 3, 0.33]],\n",
    "    'HS30': [],\n",
    "    'HS30p': [],\n",
    "    'HS30fp': [],\n",
    "    'HS32': [],\n",
    "    'HS32p': [],\n",
    "    'HS34': [[9, 0, 3, 1, 0.552], [7, 0, 1, 2, 1, -0.203, 0.426], [8, 1, 2, 3, 1, 0.126, 0.525]],\n",
    "    'HS34p': [[9, 0, 3, 1, 0.552], [7, 0, 1, 2, 1, -0.21, 0.427], [8, 1, 2, 3, 1, 0.125, 0.525]],\n",
    "    'HS35': [],\n",
    "    'HS35p': []\n",
    "}"
   ]
  },
  {
   "cell_type": "code",
   "execution_count": 10,
   "id": "4467bdf1",
   "metadata": {},
   "outputs": [],
   "source": [
    "fragments_vs = {\n",
    "    'HS1': {},\n",
    "    'HS2': {3: {0: -0.843, 1: 1.043, 2: 0}},\n",
    "    'HS3': {},\n",
    "    'HS3p': {},\n",
    "    'HS4': {},\n",
    "    'HS4p': {},\n",
    "    'HS6': {},\n",
    "    'HS6p': {},\n",
    "    'HS7': {3: {0: -0.599, 1: 1.068, 2: 0}},\n",
    "    'HS8': {3: {0: -0.756, 1: 0.914, 2: 0}},\n",
    "    'HS9': {},\n",
    "    'HS9p': {},\n",
    "    'HS11': {},\n",
    "    'HS12': {5: {1: 0.481, 4: 0}, 6: {0: 1.212, 4: -0.983, 5: 0}},\n",
    "    'HS12p': {5: {1: 0.480, 4: 0}, 6: {0: 1.212, 4: -0.981, 5: 0}},\n",
    "    'HS13': {},\n",
    "    'HS13p': {},\n",
    "    'HS14': {},\n",
    "    'HS14p': {},\n",
    "    'HS16': {4: {0: -0.810, 1: 1.013, 3: 0}},\n",
    "    'HS16p': {4: {0: -0.807, 1: 1.000, 3: 0}},\n",
    "    'HS17': {},\n",
    "    'HS18': {},\n",
    "    'HS19': {},\n",
    "    'HS19p': {},\n",
    "    'HS20': {},\n",
    "    'HS20p': {},\n",
    "    'HS20fp': {},\n",
    "    'HS21': {},\n",
    "    'HS22': {},\n",
    "    'HS23': {},\n",
    "    'HS24': {},\n",
    "    'HS24p': {},\n",
    "    'HS25': {},\n",
    "    'HS25p': {},\n",
    "    'HS26': {},\n",
    "    'HS27': {},\n",
    "    'HS27p': {},\n",
    "    'HS28': {3: {0: -0.663, 1: 0.837, 2: 0}},\n",
    "    'HS29': {4: {0: 0.120, 1: 0.308, 2: 0.242, 3: 0.33}},\n",
    "    'HS30': {},\n",
    "    'HS30p': {},\n",
    "    'HS30fp': {},\n",
    "    'HS32': {},\n",
    "    'HS32p': {},\n",
    "    'HS34': {9: {0: 0.552, 3: 0}, 7: {0: -0.203, 1: 0.426, 2: 0}, 8: {1: 0.126, 2: 0.525, 3: 0}},\n",
    "    'HS34p': {9: {0: 0.552, 3: 0}, 7: {0: -0.210, 1: 0.427, 2: 0}, 8: {1: 0.125, 2: 0.525, 3: 0}},\n",
    "    'HS35': {},\n",
    "    'HS35p': {}\n",
    "}"
   ]
  },
  {
   "cell_type": "code",
   "execution_count": 11,
   "id": "4ac85ca4-745d-45ae-b3d6-932174359613",
   "metadata": {},
   "outputs": [],
   "source": [
    "#DIR = '/data/ld121/ITP_FILES_OPTIMIZED'\n",
    "#for FRG in names:\n",
    "#    u = mda.Universe(f'{DIR}/{FRG}.itp', format = 'ITP')\n",
    "#    print(\"'\", FRG, \"': \", list(u.atoms.charges), \",\", sep = \"\")"
   ]
  },
  {
   "cell_type": "code",
   "execution_count": 12,
   "id": "d378e33f-7967-42d3-b006-989e818a4022",
   "metadata": {},
   "outputs": [],
   "source": [
    "# fragments ending with an ether group\n",
    "FRG_O = ['HS2', 'HS7', 'HS8', 'HS12', 'HS12p', 'HS16', 'HS16p', 'HS25', 'HS25p']\n",
    "# fragments with first and last bead having the same index\n",
    "FRG_same = ['HS4', 'HS4p', 'HS11' 'HS13', 'HS13p', 'HS19', 'HS19p']"
   ]
  },
  {
   "cell_type": "code",
   "execution_count": 13,
   "id": "2224e644",
   "metadata": {},
   "outputs": [],
   "source": [
    "# translation from RDKit to VSOMM2 + atom index before branch\n",
    "HS1 = np.array([[0, 1, 2, 3, 4, 5], [1, 2, 3, np.array([4, 5]), 7, 6], 4], dtype=object)\n",
    "HS2 = np.array([[0, 1, 2, 3, 4, 5, 6, 7], [1, np.array([6, 7]), 8, np.array([9, 10, 11]), 12, 13, np.array([4, 5]), np.array([2, 3])], 5], dtype=object)\n",
    "HS3 = np.array([[0, 1, 2, 3, 4, 5, 6, 7, 8, 9, 10, 11, 12, 13, 14, 15], [1, 2, 3, np.array([4, 5]), 17, 6, 7, 8, 9, 10, 11, 12, 13, 14, 15, 16], 4], dtype=object)\n",
    "HS8 = np.array([[0, 1, 2, 3, 4, 5, 6, 7], [1, np.array([2, 3]), np.array([4, 5]), 11, 12, 8, np.array([9, 10]), np.array([6, 7])], 4], dtype=object)\n",
    "HS11 = np.array([[0, 1, 2, 3, 4], [1, 2, 3, 5, 4], 3], dtype=object)\n",
    "HS13 = np.array([[0, 1, 2, 3, 4, 5, 6, 7, 8, 9, 10, 11], [1, 2, 15, 3, np.array([4, 5]), 6, np.array([7, 8]), 9, 12, 13, 14, np.array([10, 11])], 2], dtype=object)\n",
    "HS14 = np.array([[0, 1, 2, 3, 4, 5, 6, 7, 8, 9, 10, 11, 12, 13], [1, 2, np.array([3, 4]), 5, 6, 7, 8, 13 , np.array([14, 15]), 12, 17, 16, 9, np.array([10, 11])], 10], dtype=object)\n",
    "HS16 = np.array([[0, 1, 2, 3, 4, 5, 6, 7, 8, 9, 10, 11, 12], [1, 2, np.array([3, 4]), 5, np.array([6, 7]), 11, 12, 13, 14, 15, 16, 8, np.array([9, 10])], 10], dtype=object)\n",
    "HS17 = np.array([[0, 1, 2, 3], [1, 2, 3, 4], 3], dtype=object)\n",
    "HS18 = np.array([[0, 1, 2, 3, 4], [1, 2, np.array([4, 5]), 6, 3], 3], dtype=object)\n",
    "HS19 = np.array([[0, 1, 2, 3, 4, 5], [1, 2, 3, 4, 5, 6], 5], dtype=object)\n",
    "HS20 = np.array([[0, 1, 2, 3, 4, 5, 6, 7, 8, 9, 10, 11], [1, 2, 3, 4, 5, np.array([12, 13]), 14, 8, 9, 10, 11, np.array([6, 7])], 6], dtype=object)\n",
    "HS21 = np.array([[0, 1, 2, 3, 4, 5, 6, 7, 8, 9, 10, 11], [1, 9, np.array([10, 11]), 15, 12, np.array([13, 14]), 4, 5, 7, 8, 6, np.array([2, 3])], 3], dtype=object)\n",
    "HS22 = np.array([[0, 1, 2, 3, 4, 5, 6, 7, 8, 9, 10, 11], [1, 5, 6, 7, np.array([11, 12]), 13, 8, 9, 10, 2, 3, 4], 5], dtype=object)\n",
    "HS23 = np.array([[0, 1, 2, 3], [1, 2, 4, 3], 2], dtype=object)\n",
    "HS24 = np.array([[0, 1, 2, 3, 4, 5, 6, 7], [1, 2, np.array([4, 5]), 9, 6, 7, 8, 3], 3], dtype=object)\n",
    "HS26 = np.array([[0, 1, 2, 3], [1, 2, np.array([3, 4]), 5], 3], dtype=object)\n",
    "HS27 = np.array([[0, 1, 2, 3, 4, 5, 6, 7, 8, 9, 10], [1, np.array([2, 3]), 4, 5, 6, 7, 11, np.array([12, 13]), 14, 8, np.array([9, 10])], 8], dtype=object)\n",
    "HS28 = np.array([[0, 1, 2, 3, 4, 5, 6, 7], [1, np.array([6, 7]), 8, 9, np.array([4, 5]), 10, 2, 3], 5], dtype=object)\n",
    "HS29 = np.array([[0, 1, 2, 3, 4, 5, 6, 7, 8, 9, 10, 11], [1, 2, np.array([16, 17]), 18, 6, 5, 7, np.array([10, 11]), np.array([12, 13]), np.array([14, 15]), np.array([8, 9]), np.array([3, 4])], 3], dtype=object)\n",
    "HS30 = np.array([[0, 1, 2, 3, 4, 5, 6, 7, 8, 9, 10, 11, 12, 13, 14], [1, 12, 13, 14, 15, np.array([10, 11]), 6, 7, 8, 9, 16, 2, 3, 4, 5], 10], dtype=object)\n",
    "HS32 = np.array([[0, 1, 2, 3, 4, 5, 6, 7, 8, 9], [1, np.array([2, 3]), 4, 5, 6, 7, np.array([8, 9]), 10, np.array([11, 12]), 13], 9], dtype=object)\n",
    "HS34 = np.array([[0, 1, 2, 3, 4, 5, 6, 7, 8, 9, 10, 11, 12, 13, 14, 15, 16, 17, 18, 19, 20, 21], [1, 11, 12, 13, 22, np.array([23, 24]), 21, np.array([25, 26]), 27, np.array([19, 20]), 15, 16, 17, 18, 14, 10, 6, 7, 8, 9, np.array([4, 5]), np.array([2, 3])], 8], dtype=object)\n",
    "HS35 = np.array([[0, 1, 2, 3, 4, 5, 6, 7, 8, 9, 10, 11], [1, 2, np.array([4, 5]), 6, 7, 8, 9, 10, 12, 13, 11, 3], 9], dtype=object)"
   ]
  },
  {
   "cell_type": "code",
   "execution_count": 14,
   "id": "0ec6ebbc",
   "metadata": {},
   "outputs": [],
   "source": [
    "def def_per(k, n):\n",
    "    if k + n > 9:\n",
    "        per = '%'\n",
    "    else:\n",
    "        per = ''\n",
    "    return per\n",
    "\n",
    "def merge_smiles(sequence, names, smiles, first = 'H', last = 'H'):\n",
    "    indices = []\n",
    "    for FRG in sequence:\n",
    "        i = np.where(names == f'{FRG}')[0][0]\n",
    "        indices.append(i)\n",
    "    if first == 'H':\n",
    "        merge = smiles[indices[0]].replace('A','')\n",
    "    elif first == 'O':\n",
    "        merge = smiles[indices[0]].replace('A','O')\n",
    "    elif first == 'C':\n",
    "        merge = smiles[indices[0]].replace('A','C')\n",
    "    merge = merge.replace('X', '1').replace('Y', '2').replace('Z', '3')\n",
    "    k = 3\n",
    "    for i in indices[1:]:\n",
    "        working_smi = merge\n",
    "        per = def_per(k, 3)\n",
    "        smi = smiles[i].replace('Z', f'{per}{3 + k}')\n",
    "        per = def_per(k, 2)\n",
    "        smi = smi.replace('Y', f'{per}{2 + k}')\n",
    "        per = def_per(k, 1)\n",
    "        smi = smi.replace('X', f'{per}{1 + k}')\n",
    "        k += 3\n",
    "        working_smi = working_smi.replace('A','').replace('E', f'{smi}')\n",
    "        merge = working_smi\n",
    "    if last == 'H':\n",
    "        merge = merge.replace('A','').replace('(E)','')\n",
    "    elif last == 'O':\n",
    "        merge = merge.replace('A','').replace('(E)','(O)')\n",
    "    elif last == 'C':\n",
    "        merge = merge.replace('A','').replace('(E)','(C)')\n",
    "    return merge"
   ]
  },
  {
   "cell_type": "code",
   "execution_count": 15,
   "id": "093c1a22",
   "metadata": {},
   "outputs": [],
   "source": [
    "# better counter for k with if statements\n",
    "# shorten the code"
   ]
  },
  {
   "cell_type": "code",
   "execution_count": 16,
   "id": "c2e6729e",
   "metadata": {
    "scrolled": true
   },
   "outputs": [],
   "source": [
    "# read itp files\n",
    "def read_itps(PATH, GRO):\n",
    "    directory = os.fsencode(PATH)\n",
    "     \n",
    "    # unfortunately, residue names are not always correct assigned in the .itp files\n",
    "    l = os.listdir(directory)\n",
    "    for i in range(len(l)):\n",
    "        l[i] = l[i].decode()\n",
    "    itp_list = []\n",
    "    \n",
    "    u = mda.Universe(GRO) # to get correct resnames\n",
    "    \n",
    "    first_atoms = []\n",
    "    last_atoms = []\n",
    "    first_add = []\n",
    "    last_add = []\n",
    "    \n",
    "    # sequence of fragments\n",
    "    sequence = []\n",
    "    \n",
    "    n = 0\n",
    "    for file in natsorted(l):\n",
    "        filename = os.fsdecode(file)\n",
    "        if filename.endswith(\".itp\") and filename.startswith('HS_'):\n",
    "            itp_list.append(f'{file}')\n",
    "            u1 = mda.Universe(f'{PATH}{file}', topology_format='ITP')\n",
    "            # read out sequence of fragments, HS1 has C1 and CA\n",
    "            sequence.append(u.atoms[np.add(u1.select_atoms('name C1 or name CA and not (name CA and resname HS1)').indices, n)].resnames)\n",
    "            n += len(u1.atoms) # index for last atom\n",
    "            if u1.atoms[0].type == 'HC':\n",
    "                first_atoms.append('H')\n",
    "                first_add.append(1)\n",
    "            elif u1.atoms[0].type == 'CH3':\n",
    "                if u1.atoms[0].name == 'C1': # this methyl group is part of the fragment by default\n",
    "                    first_atoms.append('H')\n",
    "                    first_add.append(0)\n",
    "                else:\n",
    "                    first_atoms.append('C')\n",
    "                    first_add.append(1)\n",
    "            elif u1.atoms[0].type == 'H': # hydrogen of hydroxy group\n",
    "                first_atoms.append('O')\n",
    "                first_add.append(2)\n",
    "            else:\n",
    "                print(f'No rule for atom type {u1.atoms[0].type}.')\n",
    "            if u1.atoms[-1].type == 'HC':\n",
    "                last_atoms.append('H')\n",
    "                last_add.append(1)\n",
    "            elif u1.atoms[-1].type == 'CH3':\n",
    "                if u1.atoms[-1].name == 'C3' or u1.atoms[-1].name == 'C4' or u1.atoms[-1].name == 'C13' or u1.atoms[-1].name == 'CD2':\n",
    "                    last_atoms.append('H')\n",
    "                    last_add.append(0)\n",
    "                else:\n",
    "                    last_atoms.append('C')\n",
    "                    last_add.append(1)\n",
    "            elif u1.atoms[-1].type == 'H':\n",
    "                if u.atoms[n - 1].resname in FRG_O:\n",
    "                    last_atoms.append('H')\n",
    "                    last_add.append(1)\n",
    "                else:\n",
    "                    last_atoms.append('O')\n",
    "                    last_add.append(2)\n",
    "            continue\n",
    "        else:\n",
    "            continue\n",
    "    return first_atoms, first_add, last_atoms, last_add, sequence, itp_list"
   ]
  },
  {
   "cell_type": "code",
   "execution_count": 17,
   "id": "58a2ded0-7255-4370-bc2f-3e2c6b87496b",
   "metadata": {},
   "outputs": [],
   "source": [
    "def create_smiles(sequence, names, smiles, first_atoms, last_atoms):\n",
    "    merged_smiles = []\n",
    "    for i in range(len(sequence)):\n",
    "        merged = merge_smiles(sequence[i], names, smiles, first_atoms[i], last_atoms[i])\n",
    "        merged_smiles.append(merged)\n",
    "    return merged_smiles"
   ]
  },
  {
   "cell_type": "code",
   "execution_count": 18,
   "id": "629fb8d9",
   "metadata": {},
   "outputs": [],
   "source": [
    "# create translated list for VSOMM2\n",
    "def translate_atoms(FRAGMENTS, first = 1, last = 1, first_atom = 'H', last_atom = 'H'): # adding atoms at first or last place\n",
    "    RDKIT = 0\n",
    "    VSOMM2 = 1\n",
    "    before = 2\n",
    "\n",
    "    MODs = []; MOD2s = []\n",
    "    vsomm_list = []\n",
    "    count = [0]; count2 = 0\n",
    "    for ksi in range(len(FRAGMENTS)):\n",
    "        FRG = FRAGMENTS[ksi]\n",
    "        # add first and last atoms\n",
    "        MOD = FRG[VSOMM2].copy()\n",
    "        MOD2 = FRG[RDKIT].copy()\n",
    "        if ksi == 0 and first == 1: # first fragment\n",
    "            MOD = np.add(MOD, 1, dtype=object) # shift all indices by 1\n",
    "            if first_atom == 'H':\n",
    "                MOD[0] = np.array([1, MOD[0]]) # add hydrogen\n",
    "            else:\n",
    "                MOD = np.insert(MOD, 0, 1) # add heavy atom\n",
    "                MOD2 = np.append(MOD2, len(MOD2)) # it is like shifting all and inserting 0 at the beginning\n",
    "        elif ksi == len(FRAGMENTS) - 1 and last == 1: # last fragment\n",
    "            if last_atom == 'H':\n",
    "                MOD[FRG[before]] = np.array([MOD[FRG[before]], np.add(MOD[FRG[before]], 1)]) # add hydrogen\n",
    "            else:\n",
    "                if len(MOD) == FRG[before]: # atom before branch is last atom, just append\n",
    "                    MOD = np.append(MOD, np.add(MOD[FRG[before]], 1))\n",
    "                    MOD2 = np.append(MOD2, len(MOD2))\n",
    "                else:\n",
    "                    MOD = np.insert(MOD, FRG[before] + 1, np.add(MOD[FRG[before]], 1))\n",
    "                    MOD2 = np.append(MOD2, len(MOD2))\n",
    "        # count hidden atoms\n",
    "        for j in MOD:\n",
    "            if type(j) == list or type(j) == np.ndarray:\n",
    "                count2 += len(j) - 1 # hidden atoms\n",
    "        for i in MOD2:\n",
    "            # count hidden atoms within a fragment\n",
    "            vsomm_list.append(np.add(MOD[i], count[ksi]))\n",
    "            if i == FRG[before] and ksi != len(FRAGMENTS) - 1: # not last fragment: \n",
    "                count_h = 0\n",
    "                m = ksi\n",
    "                while m >= 0:\n",
    "                    count_h += len(FRAGMENTS[m][VSOMM2])\n",
    "                    m -= 1\n",
    "                count_h += count2\n",
    "                count.append(count_h)\n",
    "                MODs.append(MOD)\n",
    "                MOD2s.append(MOD2)\n",
    "                break\n",
    "    \n",
    "    for ksi in range(len(FRAGMENTS) - 1): # leave out last fragment, treated already above\n",
    "        FRG = np.flip(FRAGMENTS, axis = 0)[ksi + 1]\n",
    "        for i in np.flip(MOD2s, axis = 0)[ksi]:\n",
    "            if i > FRG[before]:\n",
    "                vsomm_list.append(np.add(np.flip(MODs, axis = 0)[ksi][i], np.flip(count)[ksi + 1]))\n",
    "\n",
    "    length = 0\n",
    "    for FRG in FRAGMENTS:\n",
    "        length += len(FRG[RDKIT])\n",
    "    if first_atom != 'H':\n",
    "        length += 1\n",
    "    if last_atom != 'H':\n",
    "        length += 1\n",
    "    rdkit_list = [*range(length)]\n",
    "    \n",
    "    return rdkit_list, vsomm_list"
   ]
  },
  {
   "cell_type": "code",
   "execution_count": 19,
   "id": "2188e148",
   "metadata": {},
   "outputs": [],
   "source": [
    "def translate_mapping(mapping, rdkit_list, vsomm_list):\n",
    "    translation = []\n",
    "    for i in mapping:\n",
    "        new_ind = vsomm_list[i]\n",
    "        if type(new_ind) == np.ndarray or type(new_ind) == list:\n",
    "            for j in new_ind:\n",
    "                translation.append(j)\n",
    "        else:\n",
    "            translation.append(new_ind)\n",
    "    return translation"
   ]
  },
  {
   "cell_type": "code",
   "execution_count": 20,
   "id": "4dd823c2",
   "metadata": {},
   "outputs": [],
   "source": [
    "def get_max(l):\n",
    "    m = 0\n",
    "    for i in l:\n",
    "        if type(i) == list or type(i) == np.ndarray:\n",
    "            for j in i:\n",
    "                if type(j) == list or type(j) == np.ndarray:\n",
    "                    for k in j:\n",
    "                        if k > m:\n",
    "                            m = k\n",
    "                else:\n",
    "                    if j > m:\n",
    "                        m = j\n",
    "        else:\n",
    "            if i > m:\n",
    "                m = i\n",
    "    return m"
   ]
  },
  {
   "cell_type": "code",
   "execution_count": 21,
   "id": "4f5cb91d-ba7d-4ec1-946d-28a923f9173c",
   "metadata": {},
   "outputs": [],
   "source": [
    "def return_index(vsomm_list, atom_of_interest):\n",
    "    # returns index of atom in list (even, if atom of interest is incorporated in list of list)\n",
    "    for i, atom in enumerate(vsomm_list):\n",
    "        if type(atom) == list or type(atom) == np.ndarray:\n",
    "            for sub_atom in atom:\n",
    "                if sub_atom == atom_of_interest:\n",
    "                    index = i\n",
    "                    return index\n",
    "                else:\n",
    "                    continue\n",
    "        else:\n",
    "            if atom == atom_of_interest:\n",
    "                index = i\n",
    "                return index\n",
    "            else:\n",
    "                continue\n",
    "    raise ValueError('Index not found')"
   ]
  },
  {
   "cell_type": "code",
   "execution_count": 22,
   "id": "86430f8d-8cc0-4f59-95f4-6966ae63e0d5",
   "metadata": {},
   "outputs": [],
   "source": [
    "def remove_duplicates(bead):\n",
    "    return(list(dict.fromkeys(bead)))"
   ]
  },
  {
   "cell_type": "code",
   "execution_count": 23,
   "id": "745622f8-e90b-425a-bddd-c016c770ad2c",
   "metadata": {},
   "outputs": [],
   "source": [
    "def back_translation(mapping_vsomm, vsomm_list):\n",
    "    # give mapping in vsomm picture and translate to rdkit picture\n",
    "    mapping_rdkit = []\n",
    "    for bead in mapping_vsomm:\n",
    "        translated_bead = []\n",
    "        for atom in bead:\n",
    "            translated_bead.append(return_index(vsomm_list, atom))\n",
    "        mapping_rdkit.append(remove_duplicates(translated_bead))\n",
    "    return mapping_rdkit"
   ]
  },
  {
   "cell_type": "code",
   "execution_count": 24,
   "id": "d9f13f12-c82d-4872-9f86-92f2556099ba",
   "metadata": {},
   "outputs": [],
   "source": [
    "def list_add(FRG_mapping, n):\n",
    "    # add integer to elements in list of lists\n",
    "    FRG_mapping_added = []\n",
    "    for bead in FRG_mapping:\n",
    "        bead_added = []\n",
    "        for atom in bead:\n",
    "            bead_added.append(atom + n)\n",
    "        FRG_mapping_added.append(bead_added)\n",
    "    return FRG_mapping_added"
   ]
  },
  {
   "cell_type": "code",
   "execution_count": 25,
   "id": "5ad8be4f-cdf1-4698-818c-bc166e098701",
   "metadata": {},
   "outputs": [],
   "source": [
    "def determine_no_of_atoms(FRG_mapping):\n",
    "    # number of atoms within fragment (largest index)\n",
    "    max = 0\n",
    "    for bead in FRG_mapping:\n",
    "        for atom in bead:\n",
    "            if atom > max:\n",
    "                max = atom\n",
    "            else:\n",
    "                continue\n",
    "    return max"
   ]
  },
  {
   "cell_type": "code",
   "execution_count": 26,
   "id": "674d7488-aea9-4aef-8a10-d213eceb8f17",
   "metadata": {},
   "outputs": [],
   "source": [
    "def add_at_first(indices, first_add):\n",
    "    # add indices at the beginning (into first bead)\n",
    "    indices_add = []\n",
    "    indices_add += indices[0]\n",
    "    for i in reversed(range(first_add)):\n",
    "        indices_add.insert(0, i + 1)\n",
    "    return [indices_add] + indices[1:]\n",
    "    \n",
    "def add_at_last(indices, last_add, FRG):\n",
    "    # add indices at the end (into last bead)\n",
    "    indices_add = []\n",
    "    indices_add += indices[-1]\n",
    "    print(indices_add)\n",
    "    no_of_atoms = determine_no_of_atoms(indices)\n",
    "    for i in range(no_of_atoms, no_of_atoms + last_add):\n",
    "        indices_add.append(i + 1)\n",
    "    return indices[:-1] + [indices_add]\n",
    "\n",
    "def add_at_last(indices, last_add, FRG):\n",
    "    # add indices into last bead of fragment\n",
    "    # index of bead, in which last atom should be added\n",
    "    index = get_max(fragments_connections[FRG]) # add this to function input\n",
    "    indices_add = []\n",
    "    indices_add += indices[index]\n",
    "    no_of_atoms = determine_no_of_atoms(indices)\n",
    "    for i in range(no_of_atoms, no_of_atoms + last_add):\n",
    "        indices_add.append(i + 1)\n",
    "    return indices[:index] + [indices_add] + indices[index + 1:]"
   ]
  },
  {
   "cell_type": "code",
   "execution_count": 27,
   "id": "7b07ea18-116c-443c-8092-1c63cd0ec2a3",
   "metadata": {},
   "outputs": [],
   "source": [
    "def create_mapping_vsomm(sequence, fragments_mapping, first_add, last_add):\n",
    "    # create mapping in vsomm picture\n",
    "    mapping_vsomm = []\n",
    "    prev_atoms = 0\n",
    "    for i, FRG in enumerate(sequence):\n",
    "        indices = list_add(fragments_mapping[FRG], prev_atoms + first_add)\n",
    "        if i == 0:\n",
    "            indices = add_at_first(indices, first_add)\n",
    "        elif i == len(sequence) - 1:\n",
    "            print(indices)\n",
    "            indices = add_at_last(indices, last_add, FRG) # actually add at last bead of fragment\n",
    "        mapping_vsomm += indices\n",
    "        prev_atoms += determine_no_of_atoms(fragments_mapping[FRG])\n",
    "    return mapping_vsomm"
   ]
  },
  {
   "cell_type": "code",
   "execution_count": 28,
   "id": "1101b76d-b878-40a2-beb3-8f0fe719a271",
   "metadata": {},
   "outputs": [],
   "source": [
    "def matrix_from_list(bonds, n):\n",
    "    A = np.zeros((n, n), dtype = object)\n",
    "    for bond in bonds:\n",
    "        index1 = bond[0]\n",
    "        index2 = bond[1]\n",
    "        A[index1][index2] = 1\n",
    "        A[index2][index1] = 1\n",
    "    return A\n",
    "def create_A_matrix(sequence, fragments_connections, fragments_lengths, FRG_same):\n",
    "    # crate A matrix with information on connections\n",
    "    bonds = []\n",
    "    prev_beads = 0\n",
    "    for FRG in sequence:\n",
    "        indices = list_add(fragments_connections[FRG], prev_beads)\n",
    "        bonds += indices\n",
    "        prev_beads += fragments_lengths[FRG]\n",
    "    \n",
    "    prev_beads = 0\n",
    "    for i in range(len(sequence) - 1):\n",
    "        if sequence[i] in FRG_same:\n",
    "            i_last = prev_beads\n",
    "        else:\n",
    "            i_last = prev_beads + determine_no_of_atoms(fragments_connections[sequence[i]]) # take highest index, not length du to VS\n",
    "        prev_beads += fragments_lengths[sequence[i]]\n",
    "        i_first = prev_beads\n",
    "        bonds += [[i_last, i_first]]\n",
    "    total_no_of_beads = prev_beads + fragments_lengths[sequence[-1]]\n",
    "    return matrix_from_list(bonds, total_no_of_beads)"
   ]
  },
  {
   "cell_type": "code",
   "execution_count": 29,
   "id": "bc451265-0616-4567-8a3e-c44279d9505f",
   "metadata": {},
   "outputs": [],
   "source": [
    "def determine_bead_types(sequence, fragments_bead_types):\n",
    "    bead_types = []\n",
    "    for FRG in sequence:\n",
    "        bead_types += fragments_bead_types[FRG]\n",
    "    return bead_types\n",
    "def determine_charges(sequence, fragments_charges):\n",
    "    charges = []\n",
    "    for FRG in sequence:\n",
    "        charges += fragments_charges[FRG]\n",
    "    return charges"
   ]
  },
  {
   "cell_type": "code",
   "execution_count": 30,
   "id": "b1a7499f-63a7-4a89-a104-cd3b181636eb",
   "metadata": {},
   "outputs": [],
   "source": [
    "def determine_ring_beads(ring_atoms, beads):\n",
    "    # credit to cg_param\n",
    "    ring_beads = [] \n",
    "    for ring in ring_atoms:\n",
    "        cgring = [] \n",
    "        for atom in ring:\n",
    "            for i,bead in enumerate(beads):\n",
    "                if (atom in bead) and (i not in cgring):\n",
    "                    cgring.append(i)\n",
    "        ring_beads.append(cgring)\n",
    "    return ring_beads"
   ]
  },
  {
   "cell_type": "code",
   "execution_count": 31,
   "id": "e5b0cc8e-786e-4eb1-914f-7a21caf3eaa0",
   "metadata": {},
   "outputs": [],
   "source": [
    "def get_new_virtual_sites(sequence, fragments_vs, fragments_lengths, ring_beads):\n",
    "    real = []\n",
    "    virtual = []\n",
    "    prev_beads = 0\n",
    "    for FRG in sequence:\n",
    "        vs = fragments_vs[FRG].copy()\n",
    "        if vs != []:\n",
    "            for vs_part in vs:\n",
    "                l = vs_part.copy()\n",
    "                # modify indices of vs and constructing particles\n",
    "                if len(vs_part) == 5: # vs 2\n",
    "                    l[0] += prev_beads\n",
    "                    l[1] += prev_beads \n",
    "                    l[2] += prev_beads\n",
    "                elif len(vs_part) == 7: # vs 3\n",
    "                    l[0] += prev_beads\n",
    "                    l[1] += prev_beads\n",
    "                    l[2] += prev_beads\n",
    "                    l[3] += prev_beads\n",
    "                elif len(vs_part) == 10: # vs n\n",
    "                    l[0] += prev_beads\n",
    "                    l[2] += prev_beads\n",
    "                    l[4] += prev_beads\n",
    "                    l[6] += prev_beads\n",
    "                    l[8] += prev_beads\n",
    "                virtual.append(l)\n",
    "        prev_beads += fragments_lengths[FRG]\n",
    "        \n",
    "    # filter out vs from real\n",
    "    for ring in ring_beads:\n",
    "        mod = ring.copy()\n",
    "        for vs in virtual:\n",
    "            if vs[0] in mod:\n",
    "                mod.remove(vs[0])\n",
    "        print(mod)\n",
    "        real.append(mod)\n",
    "    return virtual, real"
   ]
  },
  {
   "cell_type": "code",
   "execution_count": 32,
   "id": "f604bbd0",
   "metadata": {},
   "outputs": [],
   "source": [
    "def increase_indices(dct, increase):\n",
    "    mod = {}\n",
    "    for key, value in dct.items():\n",
    "        if isinstance(value, dict):\n",
    "            # if dictionary, than do it again\n",
    "            mod[key + increase] = increase_indices(value, increase)\n",
    "        else:\n",
    "            mod[key + increase] = value\n",
    "    return mod"
   ]
  },
  {
   "cell_type": "code",
   "execution_count": 33,
   "id": "31ba6e89",
   "metadata": {},
   "outputs": [],
   "source": [
    "def get_new_virtual_sites(sequence, fragments_vs, fragmens_lengths, ring_beads):\n",
    "    real = []\n",
    "    virtual = {}\n",
    "    prev_beads = 0\n",
    "    for FRG in sequence:\n",
    "        if fragments_vs[FRG] != {}:\n",
    "            mod = increase_indices(fragments_vs[FRG], prev_beads)\n",
    "            virtual.update(mod)\n",
    "        prev_beads += fragments_lengths[FRG]\n",
    "        \n",
    "    # filter out vs from real\n",
    "    for ring in ring_beads:\n",
    "        mod = ring.copy()\n",
    "        for vs in virtual.keys():\n",
    "            if vs in mod:\n",
    "                mod.remove(vs)\n",
    "        real.append(mod)\n",
    "    return virtual, real"
   ]
  },
  {
   "cell_type": "code",
   "execution_count": 34,
   "id": "71d6f5f3-92ca-474b-80a4-c1fe75eee905",
   "metadata": {},
   "outputs": [],
   "source": [
    "def get_standard_masses(bead_types, virtual):\n",
    "    masses = []\n",
    "    for bead in bead_types:\n",
    "        if bead[0] == 'T':\n",
    "            masses.append(36)\n",
    "        elif bead[0] == 'S':\n",
    "            masses.append(54)\n",
    "        else:\n",
    "            masses.append(72)\n",
    "\n",
    "    for vsite,refs in virtual.items():\n",
    "        vmass = masses[vsite]\n",
    "        masses[vsite] = 0\n",
    "        weight = len(refs.items())\n",
    "        for rsite,par in refs.items():\n",
    "            masses[rsite] += vmass / weight\n",
    "\n",
    "    return masses"
   ]
  },
  {
   "cell_type": "code",
   "execution_count": 35,
   "id": "779a7d2f-c4cd-4b3a-a4f2-e8f8cc1a676f",
   "metadata": {},
   "outputs": [],
   "source": [
    "def create_resname_list(sequence, fragments_lengths):\n",
    "    resnames = []\n",
    "    for FRG in sequence:\n",
    "        length = fragments_lengths[FRG]\n",
    "        resnames.extend([FRG]*length)\n",
    "    return resnames"
   ]
  },
  {
   "cell_type": "code",
   "execution_count": 36,
   "id": "a11dc166",
   "metadata": {},
   "outputs": [],
   "source": [
    "#sequence \n",
    "# find out the rest of the fragments which you need for LHA\n",
    "\n",
    "# mols = []\n",
    "# IPythonConsole.molSize = 1600,900\n",
    "#merged_smiles = []\n",
    "#for i in range(len(sequence)):\n",
    "#    merged = merge_smiles(sequence[i], names, smiles, first_atoms[i], last_atoms[i])\n",
    "#    merged_smiles.append(merged)\n",
    "#     mols.append(Chem.MolFromSmiles(merged))\n",
    "# Draw.MolsToGridImage(mols, molsPerRow=3, subImgSize=(300, 300))\n",
    "\n",
    "# cg_param\n",
    "#for i in tqdm(range(len(merged_smiles))):\n",
    "#    smi = merged_smiles[i] # smiles for cg_param\n",
    "#    file = itp_list[i][:-4] # name of molecules, e.g. HS_1\n",
    "    #!cg_param_m3_mod.py \"{smi}\" \"{CG_PATH}{file}.gro\" \"{CG_PATH}{file}.itp\" 0 \"{CG_PATH}{file}.npy\"\n",
    "\n",
    "# replace 'Qx' with 'Q5n' in the .itp files\n",
    "# but also differentiate between other ions, like 'NCC(=O)[O-]', 'CCC(=O)[O-]', 'CC(C)C(=O)[O-]', 'O=C([O-])CO', ...\n",
    "# ... or not: read their publication\n",
    "\n",
    "#for file in itp_list:\n",
    "#    !sed 's/Qx /Q5n/g' -i \"{CG_PATH}{file}\"\n",
    "#    !sed 's/MOL    2/{file[:-4]}   2/g' -i \"{CG_PATH}{file}\"\n",
    "\n",
    "# what fragments do we need?\n",
    "# all_frg = []\n",
    "# for mol in sequence:\n",
    "#     for frg in mol:\n",
    "#         all_frg.append(frg)\n",
    "# print(natsorted(set(all_frg)))"
   ]
  },
  {
   "cell_type": "code",
   "execution_count": 37,
   "id": "8d22d89b-4307-4208-bdfc-1df7c682425d",
   "metadata": {},
   "outputs": [],
   "source": [
    "from cg_param_m3 import *"
   ]
  },
  {
   "cell_type": "code",
   "execution_count": 38,
   "id": "d1d3aa71-5ee9-4bde-a4f7-b70b43ee7856",
   "metadata": {},
   "outputs": [],
   "source": [
    "PATH = 'INIT_at/'\n",
    "GRO = f'{PATH}min_system.gro'\n",
    "CG_PATH = 'LHA_test'"
   ]
  },
  {
   "cell_type": "code",
   "execution_count": 39,
   "id": "d6b1169b-8f1c-4955-ab83-d626a01f1aa0",
   "metadata": {},
   "outputs": [],
   "source": [
    "first_atoms, first_add, last_atoms, last_add, sequence, itp_list = read_itps(PATH,GRO)\n",
    "merged_smiles = create_smiles(sequence, names, smiles, first_atoms, last_atoms)\n",
    "\n",
    "vsomm_lists = []\n",
    "rdkit_lists = []\n",
    "for i, mol in enumerate(sequence):\n",
    "    FRAGMENTS = []\n",
    "    for fragment in mol:\n",
    "        FRAGMENTS.append(globals()[fragment]) # convert strings to lists\n",
    "    rdkit_list, vsomm_list = translate_atoms(FRAGMENTS, first_add[i], last_add[i], first_atoms[i], last_atoms[i])\n",
    "    vsomm_lists.append(vsomm_list)\n",
    "    rdkit_lists.append(rdkit_list)"
   ]
  },
  {
   "cell_type": "code",
   "execution_count": 74,
   "id": "fcf0435e-56a3-4abc-b0fa-cd0e1b5c233e",
   "metadata": {
    "scrolled": true
   },
   "outputs": [
    {
     "name": "stdout",
     "output_type": "stream",
     "text": [
      "[[49, 54, 55], [50, 51], [52, 53, 58], [56, 57]]\n",
      "[[64, 65], [69, 70, 71], [72, 73, 74], [66, 67, 68], [75, 76, 77]]\n"
     ]
    },
    {
     "name": "stderr",
     "output_type": "stream",
     "text": [
      "[18:12:58] non-ring atom 0 marked aromatic\n",
      "[18:12:58] non-ring atom 0 marked aromatic\n"
     ]
    },
    {
     "name": "stdout",
     "output_type": "stream",
     "text": [
      "[[85, 90, 91], [86, 87], [88, 89, 94], [92, 93]]\n",
      "O not on list\n"
     ]
    },
    {
     "name": "stderr",
     "output_type": "stream",
     "text": [
      "[18:13:00] non-ring atom 0 marked aromatic\n"
     ]
    },
    {
     "name": "stdout",
     "output_type": "stream",
     "text": [
      "O Data from Wildmann-Crippen\n",
      "O not on list\n"
     ]
    },
    {
     "name": "stderr",
     "output_type": "stream",
     "text": [
      "[18:13:00] non-ring atom 0 marked aromatic\n"
     ]
    },
    {
     "name": "stdout",
     "output_type": "stream",
     "text": [
      "O Data from Wildmann-Crippen\n",
      "[[48, 49, 50], [51, 52, 53], [62, 66, 67], [68, 69, 70, 71], [54, 55, 56], [63, 64, 65], [72, 73, 74], [57, 58], [60, 61], [59]]\n",
      "O not on list\n"
     ]
    },
    {
     "name": "stderr",
     "output_type": "stream",
     "text": [
      "[18:13:04] non-ring atom 0 marked aromatic\n"
     ]
    },
    {
     "name": "stdout",
     "output_type": "stream",
     "text": [
      "O Data from Wildmann-Crippen\n",
      "[[35, 40, 41], [36, 37], [38, 39, 44], [42, 43]]\n",
      "O=COC=O not on list\n",
      "O=COC=O not on list\n",
      "[[36, 41, 42], [37, 38], [39, 40, 45], [43, 44]]\n",
      "O=COC=O not on list\n",
      "[[49, 54, 55], [50, 51, 52, 53], [59, 60], [56, 57, 58]]\n",
      "O not on list\n"
     ]
    },
    {
     "name": "stderr",
     "output_type": "stream",
     "text": [
      "[18:13:08] non-ring atom 0 marked aromatic\n"
     ]
    },
    {
     "name": "stdout",
     "output_type": "stream",
     "text": [
      "O Data from Wildmann-Crippen\n"
     ]
    },
    {
     "name": "stderr",
     "output_type": "stream",
     "text": [
      "[18:13:08] non-ring atom 0 marked aromatic\n",
      "[18:13:08] non-ring atom 0 marked aromatic\n"
     ]
    },
    {
     "name": "stdout",
     "output_type": "stream",
     "text": [
      "[[40, 41, 42], [43, 47, 48], [44, 45, 46], [49, 50, 51, 52]]\n",
      "O=COC=O not on list\n",
      "[[38, 39, 40, 41, 42]]\n",
      "O=COC=O not on list\n",
      "O=COC=O not on list\n",
      "[[48, 56, 57, 58], [49, 50, 51, 52], [53, 54, 55], [59, 60, 61, 62], [63, 64]]\n",
      "[[44, 49, 50], [45, 46, 47, 48], [55, 56], [51, 52, 53, 54]]\n",
      "O=COC=O not on list\n"
     ]
    },
    {
     "name": "stderr",
     "output_type": "stream",
     "text": [
      "[18:13:14] non-ring atom 0 marked aromatic\n",
      "[18:13:14] non-ring atom 0 marked aromatic\n"
     ]
    },
    {
     "name": "stdout",
     "output_type": "stream",
     "text": [
      "[[41, 46, 47], [42, 43], [44, 45, 50], [48, 49]]\n",
      "O=COC=O not on list\n",
      "[[42, 43, 44, 45]]\n"
     ]
    },
    {
     "name": "stderr",
     "output_type": "stream",
     "text": [
      "[18:13:16] non-ring atom 0 marked aromatic\n",
      "[18:13:16] non-ring atom 0 marked aromatic\n"
     ]
    },
    {
     "name": "stdout",
     "output_type": "stream",
     "text": [
      "[[31, 32, 33, 34]]\n",
      "O=COC=O not on list\n",
      "O=COC=O not on list\n",
      "[[47, 55, 56, 57], [48, 49, 50, 51], [52, 53, 54], [58, 59, 60, 61], [62, 63]]\n",
      "[[48, 53, 54], [49, 50], [51, 52, 57], [55, 56]]\n",
      "O=COC=O not on list\n"
     ]
    },
    {
     "name": "stderr",
     "output_type": "stream",
     "text": [
      "[18:13:19] non-ring atom 0 marked aromatic\n"
     ]
    },
    {
     "name": "stdout",
     "output_type": "stream",
     "text": [
      "O not on list\n",
      "O Data from Wildmann-Crippen\n",
      "O=COC=O not on list\n",
      "[[75, 76], [77, 78, 79], [87, 88, 89], [84, 85, 86], [81, 82, 83], [80, 90]]\n",
      "O not on list\n"
     ]
    },
    {
     "name": "stderr",
     "output_type": "stream",
     "text": [
      "[18:13:20] non-ring atom 0 marked aromatic\n",
      "[18:13:20] non-ring atom 0 marked aromatic\n",
      "[18:13:20] non-ring atom 0 marked aromatic\n"
     ]
    },
    {
     "name": "stdout",
     "output_type": "stream",
     "text": [
      "O Data from Wildmann-Crippen\n",
      "[[36, 37], [41, 42, 43], [44, 45, 46], [38, 39, 40], [47, 48, 49]]\n"
     ]
    },
    {
     "name": "stderr",
     "output_type": "stream",
     "text": [
      "[18:13:24] non-ring atom 0 marked aromatic\n",
      "[18:13:24] non-ring atom 0 marked aromatic\n"
     ]
    },
    {
     "name": "stdout",
     "output_type": "stream",
     "text": [
      "[[42, 50, 51, 52], [43, 44, 45, 46], [47, 48, 49], [53, 54, 55, 56], [57, 58]]\n"
     ]
    },
    {
     "name": "stderr",
     "output_type": "stream",
     "text": [
      "[18:13:24] non-ring atom 0 marked aromatic\n",
      "[18:13:24] non-ring atom 0 marked aromatic\n"
     ]
    },
    {
     "name": "stdout",
     "output_type": "stream",
     "text": [
      "[[27, 32, 33], [28, 29, 30, 31], [37, 38], [34, 35, 36]]\n"
     ]
    },
    {
     "name": "stderr",
     "output_type": "stream",
     "text": [
      "[18:13:25] non-ring atom 0 marked aromatic\n",
      "[18:13:25] non-ring atom 0 marked aromatic\n"
     ]
    },
    {
     "name": "stdout",
     "output_type": "stream",
     "text": [
      "[[35, 36], [37, 38, 39], [40, 41]]\n",
      "O=COC=O not on list\n",
      "[[44, 45], [46, 47, 48], [56, 57, 58], [53, 54, 55], [50, 51, 52], [49, 59]]\n"
     ]
    },
    {
     "name": "stderr",
     "output_type": "stream",
     "text": [
      "[18:13:27] non-ring atom 0 marked aromatic\n",
      "[18:13:27] non-ring atom 0 marked aromatic\n"
     ]
    },
    {
     "name": "stdout",
     "output_type": "stream",
     "text": [
      "[[56, 57, 58, 59], [62, 63, 64, 65, 66], [67, 68, 69, 70], [71, 72, 73], [60, 61]]\n"
     ]
    },
    {
     "name": "stderr",
     "output_type": "stream",
     "text": [
      "[18:13:27] non-ring atom 0 marked aromatic\n",
      "[18:13:27] non-ring atom 0 marked aromatic\n",
      "[18:13:27] non-ring atom 0 marked aromatic\n",
      "[18:13:27] non-ring atom 0 marked aromatic\n"
     ]
    },
    {
     "name": "stdout",
     "output_type": "stream",
     "text": [
      "[[47, 48], [49, 50, 51], [59, 60, 61], [56, 57, 58], [53, 54, 55], [52, 62]]\n"
     ]
    },
    {
     "name": "stderr",
     "output_type": "stream",
     "text": [
      "[18:13:28] non-ring atom 0 marked aromatic\n",
      "[18:13:28] non-ring atom 0 marked aromatic\n"
     ]
    },
    {
     "name": "stdout",
     "output_type": "stream",
     "text": [
      "[[40, 41, 42, 43, 44]]\n",
      "O=COC=O not on list\n",
      "O=COC=O not on list\n",
      "O=COC=O not on list\n",
      "[[42, 43, 44, 45]]\n"
     ]
    },
    {
     "name": "stderr",
     "output_type": "stream",
     "text": [
      "[18:13:31] non-ring atom 0 marked aromatic\n",
      "[18:13:31] non-ring atom 0 marked aromatic\n"
     ]
    },
    {
     "name": "stdout",
     "output_type": "stream",
     "text": [
      "[[44, 49, 50], [45, 46, 47, 48], [54, 55], [51, 52, 53]]\n",
      "O=COC=O not on list\n"
     ]
    },
    {
     "name": "stderr",
     "output_type": "stream",
     "text": [
      "[18:13:32] non-ring atom 0 marked aromatic\n",
      "[18:13:32] non-ring atom 0 marked aromatic\n"
     ]
    },
    {
     "name": "stdout",
     "output_type": "stream",
     "text": [
      "[[42, 43, 44, 45, 46]]\n",
      "O=COC=O not on list\n",
      "[[63, 71, 72, 73], [64, 65, 66, 67], [68, 69, 70], [74, 75, 76, 77], [78, 79]]\n",
      "[[45, 46, 47, 48, 49]]\n",
      "O=COC=O not on list\n",
      "[[41, 42, 43, 44], [45, 46, 47, 51], [52, 53, 54], [55, 56], [48, 49, 50]]\n"
     ]
    },
    {
     "name": "stderr",
     "output_type": "stream",
     "text": [
      "[18:13:36] non-ring atom 0 marked aromatic\n",
      "[18:13:36] non-ring atom 0 marked aromatic\n",
      "[18:13:36] non-ring atom 0 marked aromatic\n",
      "[18:13:36] non-ring atom 0 marked aromatic\n"
     ]
    },
    {
     "name": "stdout",
     "output_type": "stream",
     "text": [
      "[[49, 50, 51, 52, 53]]\n",
      "O=COC=O not on list\n",
      "[[51, 52, 53, 54], [55, 56, 57, 61], [62, 63, 64], [65, 66], [58, 59, 60]]\n",
      "O=COC=O not on list\n"
     ]
    },
    {
     "name": "stderr",
     "output_type": "stream",
     "text": [
      "[18:13:38] non-ring atom 0 marked aromatic\n",
      "[18:13:38] non-ring atom 0 marked aromatic\n",
      "[18:13:38] non-ring atom 0 marked aromatic\n",
      "[18:13:38] non-ring atom 0 marked aromatic\n"
     ]
    },
    {
     "name": "stdout",
     "output_type": "stream",
     "text": [
      "[[34, 35, 36, 37, 38]]\n",
      "O=COC=O not on list\n",
      "O=COC=O not on list\n",
      "[[54, 55, 56, 57, 58]]\n",
      "O=COC=O not on list\n"
     ]
    },
    {
     "name": "stderr",
     "output_type": "stream",
     "text": [
      "[18:13:40] non-ring atom 0 marked aromatic\n",
      "[18:13:40] non-ring atom 0 marked aromatic\n"
     ]
    },
    {
     "name": "stdout",
     "output_type": "stream",
     "text": [
      "[[46, 47, 51], [48, 49, 50]]\n",
      "[[64, 72, 73, 74], [65, 66, 67, 68], [69, 70, 71], [75, 76, 77, 78], [79, 80]]\n"
     ]
    },
    {
     "name": "stderr",
     "output_type": "stream",
     "text": [
      "[18:13:42] non-ring atom 0 marked aromatic\n",
      "[18:13:42] non-ring atom 0 marked aromatic\n",
      "[18:13:42] non-ring atom 0 marked aromatic\n",
      "[18:13:42] non-ring atom 0 marked aromatic\n"
     ]
    },
    {
     "name": "stdout",
     "output_type": "stream",
     "text": [
      "[[70, 71], [72, 73, 74], [82, 83, 84], [79, 80, 81], [76, 77, 78], [75, 85]]\n",
      "O not on list\n"
     ]
    },
    {
     "name": "stderr",
     "output_type": "stream",
     "text": [
      "[18:13:43] non-ring atom 0 marked aromatic\n"
     ]
    },
    {
     "name": "stdout",
     "output_type": "stream",
     "text": [
      "O Data from Wildmann-Crippen\n"
     ]
    },
    {
     "name": "stderr",
     "output_type": "stream",
     "text": [
      "[18:13:43] non-ring atom 0 marked aromatic\n",
      "[18:13:43] non-ring atom 0 marked aromatic\n"
     ]
    },
    {
     "name": "stdout",
     "output_type": "stream",
     "text": [
      "[[70, 78, 79, 80], [71, 72, 73, 74], [75, 76, 77], [81, 82, 83, 84], [85, 86]]\n",
      "O not on list\n"
     ]
    },
    {
     "name": "stderr",
     "output_type": "stream",
     "text": [
      "[18:13:45] non-ring atom 0 marked aromatic\n"
     ]
    },
    {
     "name": "stdout",
     "output_type": "stream",
     "text": [
      "O Data from Wildmann-Crippen\n",
      "[[38, 39], [40, 41, 42], [43, 44]]\n"
     ]
    }
   ],
   "source": [
    "mapping = []\n",
    "resnames = []\n",
    "for i, smi in enumerate(merged_smiles):\n",
    "    mol_name = 'MOL'\n",
    "    mol = Chem.MolFromSmiles(smi)\n",
    "    \n",
    "    matched_maps,matched_beads = get_smarts_matches(mol)\n",
    "    ring_atoms = get_ring_atoms(mol)\n",
    "    #A_cg,beads,ring_beads,path_matrix = mapping(mol,ring_atoms,matched_maps,3)\n",
    "    A_cg = create_A_matrix(sequence[i], fragments_connections, fragments_lengths, FRG_same)\n",
    "    beads = back_translation(create_mapping_vsomm(sequence[i], fragments_mapping, first_add[i], last_add[i]), vsomm_lists[i])\n",
    "    ring_beads = determine_ring_beads(ring_atoms, beads)\n",
    "    non_ring = [b for b in range(len(beads)) if not any(b in ring for ring in ring_beads)]\n",
    "    A_atom = np.asarray(Chem.GetAdjacencyMatrix(mol))\n",
    "    path_matrix = floyd_warshall(csgraph=A_atom,directed=False)\n",
    "    bead_types,charges,all_smi,DG_data = get_types(beads,mol,ring_beads,matched_maps,path_matrix)\n",
    "    \n",
    "    charges = determine_charges(sequence[i], fragments_charges)\n",
    "    bead_types = determine_bead_types(sequence[i], fragments_bead_types)\n",
    "    \n",
    "    nconfs = 5\n",
    "    mol = Chem.AddHs(mol)\n",
    "    AllChem.EmbedMultipleConfs(mol,numConfs=nconfs,randomSeed=random.randint(1,1000),useRandomCoords=True)\n",
    "    AllChem.UFFOptimizeMoleculeConfs(mol)\n",
    "    coords0 = get_coords(mol,beads) # coordinates of energy minimized molecules\n",
    "\n",
    "    virtual, real = get_new_virtual_sites(sequence[i], fragments_vs, fragments_lengths, ring_beads)\n",
    "    masses = get_standard_masses(bead_types, virtual)\n",
    "    resname_list = create_resname_list(sequence[i], fragments_lengths)\n",
    "    #write_itp(mol_name,bead_types,coords0,charges,all_smi,A_cg,ring_beads,beads,mol,nconfs,virtual,real,masses,resname_list,f'{CG_PATH}/{itp_list[i]}')\n",
    "    mapping.append(beads)\n",
    "    resnames.append(resname_list)\n",
    "    #write_gro(mol_name,bead_types,coords0,mol,f'{CG_PATH}/test.gro')"
   ]
  },
  {
   "cell_type": "code",
   "execution_count": 130,
   "id": "fbb92750",
   "metadata": {},
   "outputs": [],
   "source": [
    "# add bonds for unwrapping\n",
    "# load atomistic coordinates\n",
    "#w = 0.424\n",
    "#GRO = f'LHA_test/{w}/min_system.gro'\n",
    "#CG_PATH = f'LHA_test/{w}'\n",
    "u = mda.Universe(f'{GRO}')\n",
    "# add bonds from itp files\n",
    "n = 0\n",
    "for i, file in enumerate(itp_list):\n",
    "    u1 = mda.Universe(f'{PATH}{file}', topology_format='ITP')\n",
    "    if i == 0:\n",
    "        bonds = u1.bonds.indices\n",
    "        n += len(u1.atoms)\n",
    "    else:\n",
    "        for b in u1.bonds.indices:\n",
    "            bonds = np.concatenate((bonds, np.add(u1.bonds.indices, n)))\n",
    "        n += len(u1.atoms)\n",
    "u.add_TopologyAttr('bonds', bonds)\n",
    "# unwrap\n",
    "workflow = [transformations.unwrap(u.atoms)]\n",
    "u.trajectory.add_transformations(*workflow)"
   ]
  },
  {
   "cell_type": "code",
   "execution_count": 131,
   "id": "49dcfb24",
   "metadata": {},
   "outputs": [
    {
     "name": "stdout",
     "output_type": "stream",
     "text": [
      "2360\n"
     ]
    }
   ],
   "source": [
    "# get total number of beads\n",
    "n_beads = 0\n",
    "for i, file in enumerate(itp_list):\n",
    "    #mapping = np.load(f'{CG_PATH}/{file[:-4]}.npy', allow_pickle=True)\n",
    "    n_beads += len(mapping[i])\n",
    "n = mda.Universe.empty(n_beads, n_residues = n_beads, atom_resindex = np.arange(n_beads), residue_segindex = np.zeros(n_beads))\n",
    "\n",
    "#u = mda.Universe(f'{GRO}')\n",
    "coords = []\n",
    "prev_atoms = 0\n",
    "resids = []; names_gro = [] #resnames = []\n",
    "for i, mol in enumerate(sequence):\n",
    "    #FRAGMENTS = []\n",
    "    #for fragment in mol:\n",
    "    #    FRAGMENTS.append(globals()[fragment]) # convert strings to lists\n",
    "    #rdkit_list, vsomm_list = translate_atoms(FRAGMENTS, first_add[i], last_add[i], first_atoms[i], last_atoms[i])\n",
    "    for j, bead in enumerate(mapping[i]):\n",
    "        vsomm_indices = translate_mapping(bead, rdkit_lists[i], vsomm_lists[i])\n",
    "        a = u.atoms[np.add(vsomm_indices, prev_atoms - 1)]\n",
    "        coords.append(a.center_of_geometry())\n",
    "        resids.append(i + 1); names_gro.append(f\"CG{j + 1}\") #resnames.append(\"MOL\")\n",
    "    prev_atoms += get_max(vsomm_lists[i])\n",
    "coords = np.array(coords)\n",
    "n.load_new(coords, format = mda.coordinates.memory.MemoryReader)\n",
    "print(prev_atoms)"
   ]
  },
  {
   "cell_type": "code",
   "execution_count": 132,
   "id": "ea1bfa1f",
   "metadata": {},
   "outputs": [],
   "source": [
    "# set box size to that of the atomistic frame\n",
    "n.dimensions = u.dimensions\n",
    "# modify names, resnames, etc.\n",
    "# wrap molecules\n",
    "workflow = [transformations.wrap(n.atoms)]\n",
    "n.trajectory.add_transformations(*workflow)"
   ]
  },
  {
   "cell_type": "code",
   "execution_count": 133,
   "id": "683f2acf",
   "metadata": {},
   "outputs": [],
   "source": [
    "# save mapped coordinates with calcium ions\n",
    "CA = u.select_atoms(\"resname CA2+\")\n",
    "for i in range(len(CA.atoms)):\n",
    "    resids.append(len(sequence) + i + 1)\n",
    "    resnames.append(\"CA\")\n",
    "    names_gro.append(\"CA\")\n",
    "# merge with calcium ions\n",
    "merged = mda.Merge(n.select_atoms(\"all\"), CA)\n",
    "# add dimensions\n",
    "merged.dimensions = u.dimensions\n",
    "# add resnames, etc.\n",
    "resnames_flat = [item for sublist in resnames if isinstance(sublist, list) for item in sublist] + [item for item in resnames if not isinstance(item, list)]\n",
    "merged.add_TopologyAttr('resid', resids)\n",
    "merged.add_TopologyAttr('resname', resnames_flat)\n",
    "merged.add_TopologyAttr('name', names_gro)\n",
    "merged.atoms.write(f'{CG_PATH}/mapped.gro')"
   ]
  },
  {
   "cell_type": "code",
   "execution_count": 134,
   "id": "bf9f8b42-ba08-4e9d-9a46-32a21991adf7",
   "metadata": {},
   "outputs": [
    {
     "name": "stdout",
     "output_type": "stream",
     "text": [
      "You can solvate the structure with 'gmx insert-molecules -ci water.pdb -nmol 375 -f mapped.gro -radius 0.180 -try 1000 -o solvated.gro &> solvation.log'\n"
     ]
    }
   ],
   "source": [
    "# create 'water.pdb' if not already present\n",
    "water_pdb = \"\"\"ITLE     Gromacs Runs On Most of All Computer Systems    \n",
    "REMARK    THIS IS A SIMULATION BOX    \n",
    "CRYST1   10.000   10.000   10.000  90.00  90.00  90.00 P 1           1    \n",
    "MODEL        1    \n",
    "ATOM      1  W     W     1       0.000   0.000   0.000  1.00  0.00                \n",
    "TER    \n",
    "ENDMDL   \n",
    "\"\"\"\n",
    "file = \"water.pdb\"\n",
    "if os.path.exists(f\"{CG_PATH}/{file}\") == False:\n",
    "    f = open(f\"{CG_PATH}/{file}\", \"w\")\n",
    "    f.write(water_pdb)\n",
    "    f.close()\n",
    "# number of coarse-grained water molecules\n",
    "N = len(u.select_atoms('name OW')) / 4\n",
    "print(f\"You can solvate the structure with 'gmx insert-molecules -ci water.pdb -nmol {round(N)} -f mapped.gro -radius 0.180 -try 1000 -o solvated.gro &> solvation.log'\")"
   ]
  },
  {
   "cell_type": "code",
   "execution_count": 58,
   "id": "e7078097-8473-48d6-bc4b-da118edefe6c",
   "metadata": {},
   "outputs": [
    {
     "ename": "FileNotFoundError",
     "evalue": "[Errno 2] No such file or directory: 'LHA_test/0.197/HS_1.itp'",
     "output_type": "error",
     "traceback": [
      "\u001b[0;31m---------------------------------------------------------------------------\u001b[0m",
      "\u001b[0;31mFileNotFoundError\u001b[0m                         Traceback (most recent call last)",
      "Cell \u001b[0;32mIn[58], line 2\u001b[0m\n\u001b[1;32m      1\u001b[0m \u001b[38;5;28;01mfor\u001b[39;00m file \u001b[38;5;129;01min\u001b[39;00m itp_list:\n\u001b[0;32m----> 2\u001b[0m     \u001b[38;5;28;01mwith\u001b[39;00m \u001b[38;5;28;43mopen\u001b[39;49m\u001b[43m(\u001b[49m\u001b[38;5;124;43mf\u001b[39;49m\u001b[38;5;124;43m\"\u001b[39;49m\u001b[38;5;132;43;01m{\u001b[39;49;00m\u001b[43mCG_PATH\u001b[49m\u001b[38;5;132;43;01m}\u001b[39;49;00m\u001b[38;5;124;43m/\u001b[39;49m\u001b[38;5;132;43;01m{\u001b[39;49;00m\u001b[43mfile\u001b[49m\u001b[38;5;132;43;01m}\u001b[39;49;00m\u001b[38;5;124;43m\"\u001b[39;49m\u001b[43m,\u001b[49m\u001b[43m \u001b[49m\u001b[38;5;124;43m\"\u001b[39;49m\u001b[38;5;124;43mr\u001b[39;49m\u001b[38;5;124;43m\"\u001b[39;49m\u001b[43m)\u001b[49m \u001b[38;5;28;01mas\u001b[39;00m f:\n\u001b[1;32m      3\u001b[0m         file_data \u001b[38;5;241m=\u001b[39m f\u001b[38;5;241m.\u001b[39mread()\n\u001b[1;32m      4\u001b[0m     file_data \u001b[38;5;241m=\u001b[39m file_data\u001b[38;5;241m.\u001b[39mreplace(\u001b[38;5;124mf\u001b[39m\u001b[38;5;124m\"\u001b[39m\u001b[38;5;124mMOL    1\u001b[39m\u001b[38;5;124m\"\u001b[39m, \u001b[38;5;124mf\u001b[39m\u001b[38;5;124m\"\u001b[39m\u001b[38;5;132;01m{\u001b[39;00mfile[:\u001b[38;5;241m-\u001b[39m\u001b[38;5;241m4\u001b[39m]\u001b[38;5;132;01m}\u001b[39;00m\u001b[38;5;124m    1\u001b[39m\u001b[38;5;124m\"\u001b[39m)\n",
      "File \u001b[0;32m~/.local/lib/python3.9/site-packages/IPython/core/interactiveshell.py:286\u001b[0m, in \u001b[0;36m_modified_open\u001b[0;34m(file, *args, **kwargs)\u001b[0m\n\u001b[1;32m    279\u001b[0m \u001b[38;5;28;01mif\u001b[39;00m file \u001b[38;5;129;01min\u001b[39;00m {\u001b[38;5;241m0\u001b[39m, \u001b[38;5;241m1\u001b[39m, \u001b[38;5;241m2\u001b[39m}:\n\u001b[1;32m    280\u001b[0m     \u001b[38;5;28;01mraise\u001b[39;00m \u001b[38;5;167;01mValueError\u001b[39;00m(\n\u001b[1;32m    281\u001b[0m         \u001b[38;5;124mf\u001b[39m\u001b[38;5;124m\"\u001b[39m\u001b[38;5;124mIPython won\u001b[39m\u001b[38;5;124m'\u001b[39m\u001b[38;5;124mt let you open fd=\u001b[39m\u001b[38;5;132;01m{\u001b[39;00mfile\u001b[38;5;132;01m}\u001b[39;00m\u001b[38;5;124m by default \u001b[39m\u001b[38;5;124m\"\u001b[39m\n\u001b[1;32m    282\u001b[0m         \u001b[38;5;124m\"\u001b[39m\u001b[38;5;124mas it is likely to crash IPython. If you know what you are doing, \u001b[39m\u001b[38;5;124m\"\u001b[39m\n\u001b[1;32m    283\u001b[0m         \u001b[38;5;124m\"\u001b[39m\u001b[38;5;124myou can use builtins\u001b[39m\u001b[38;5;124m'\u001b[39m\u001b[38;5;124m open.\u001b[39m\u001b[38;5;124m\"\u001b[39m\n\u001b[1;32m    284\u001b[0m     )\n\u001b[0;32m--> 286\u001b[0m \u001b[38;5;28;01mreturn\u001b[39;00m \u001b[43mio_open\u001b[49m\u001b[43m(\u001b[49m\u001b[43mfile\u001b[49m\u001b[43m,\u001b[49m\u001b[43m \u001b[49m\u001b[38;5;241;43m*\u001b[39;49m\u001b[43margs\u001b[49m\u001b[43m,\u001b[49m\u001b[43m \u001b[49m\u001b[38;5;241;43m*\u001b[39;49m\u001b[38;5;241;43m*\u001b[39;49m\u001b[43mkwargs\u001b[49m\u001b[43m)\u001b[49m\n",
      "\u001b[0;31mFileNotFoundError\u001b[0m: [Errno 2] No such file or directory: 'LHA_test/0.197/HS_1.itp'"
     ]
    }
   ],
   "source": [
    "for file in itp_list:\n",
    "    with open(f\"{CG_PATH}/{file}\", \"r\") as f:\n",
    "        file_data = f.read()\n",
    "    file_data = file_data.replace(f\"MOL    1\", f\"{file[:-4]}    1\")\n",
    "    with open(f\"{CG_PATH}/{file}\", \"w\") as f:\n",
    "        f.write(file_data)"
   ]
  },
  {
   "cell_type": "code",
   "execution_count": null,
   "id": "70249c35-2b20-4209-8261-00ac6b953e8f",
   "metadata": {},
   "outputs": [],
   "source": []
  }
 ],
 "metadata": {
  "kernelspec": {
   "display_name": "Python 3 (ipykernel)",
   "language": "python",
   "name": "python3"
  },
  "language_info": {
   "codemirror_mode": {
    "name": "ipython",
    "version": 3
   },
   "file_extension": ".py",
   "mimetype": "text/x-python",
   "name": "python",
   "nbconvert_exporter": "python",
   "pygments_lexer": "ipython3",
   "version": "3.9.2"
  }
 },
 "nbformat": 4,
 "nbformat_minor": 5
}
